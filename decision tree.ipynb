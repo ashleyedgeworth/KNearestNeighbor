{
 "cells": [
  {
   "cell_type": "code",
   "execution_count": 8,
   "id": "eef9f3e2-5cbb-4083-8dc2-a0d77848662e",
   "metadata": {},
   "outputs": [
    {
     "name": "stdout",
     "output_type": "stream",
     "text": [
      "K value =  1 Mean Absolute Error =  9.23297649331072 R2 =  148.6417121773403\n",
      "K value =  3 Mean Absolute Error =  8.178341302367942 R2 =  114.58407133324363\n",
      "K value =  5 Mean Absolute Error =  7.345045694365933 R2 =  84.70397678875483\n",
      "K value =  7 Mean Absolute Error =  7.376062865083851 R2 =  82.38549302263775\n",
      "K value =  9 Mean Absolute Error =  7.421914845173044 R2 =  82.1710747360761\n"
     ]
    }
   ],
   "source": [
    "#knn\n",
    "from sklearn.neighbors import KNeighborsRegressor\n",
    "import pandas as pd\n",
    "import warnings\n",
    "from sklearn.metrics import mean_absolute_error, mean_squared_error\n",
    "from sklearn.model_selection import train_test_split\n",
    "from sklearn.metrics import accuracy_score\n",
    "from sklearn import preprocessing\n",
    "from sklearn import utils\n",
    "\n",
    "# Ignoring future warnings\n",
    "warnings.simplefilter(action='ignore', category=FutureWarning)\n",
    "\n",
    "# Cleaning data\n",
    "data = pd.read_csv(\"Life Expectancy Data.csv\")\n",
    "data = data.groupby('Country').mean() # Grouping years by country\n",
    "data = data.fillna(data.mean()) # Replacing NaN with mean values\n",
    "data = data.drop(['Year'], axis=1)\n",
    "data.sort_values(by = 'Life expectancy ', ascending = False)\n",
    "\n",
    "# Loading data\n",
    "X = data.drop(['Life expectancy '],axis = 1)\n",
    "y = data['Life expectancy ']\n",
    "\n",
    "#trained_model = model.fit(X,y) # Train model\n",
    "\n",
    "X_train, X_test, y_train, y_test = train_test_split(X, y,test_size=0.3)\n",
    "accuracy_list = []\n",
    "\n",
    "for k in [1,3,5,7,9]:\n",
    "    model = KNeighborsRegressor(n_neighbors=k) # Define model\n",
    "    model.fit(X_train, y_train) # Train model\n",
    "\n",
    "    \n",
    "    y_predicted = model.predict(X_test) #prediction\n",
    "    MAE = mean_absolute_error(y_test, y_predicted)\n",
    "    R2 = mean_squared_error(y_test, y_predicted)\n",
    "    print(\"K value = \",k,\"Mean Absolute Error = \" ,MAE, \"R2 = \", R2)"
   ]
  }
 ],
 "metadata": {
  "kernelspec": {
   "display_name": "Python 3 (ipykernel)",
   "language": "python",
   "name": "python3"
  },
  "language_info": {
   "codemirror_mode": {
    "name": "ipython",
    "version": 3
   },
   "file_extension": ".py",
   "mimetype": "text/x-python",
   "name": "python",
   "nbconvert_exporter": "python",
   "pygments_lexer": "ipython3",
   "version": "3.9.12"
  }
 },
 "nbformat": 4,
 "nbformat_minor": 5
}
